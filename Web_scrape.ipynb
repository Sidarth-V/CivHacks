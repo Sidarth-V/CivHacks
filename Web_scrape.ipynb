{
  "nbformat": 4,
  "nbformat_minor": 0,
  "metadata": {
    "colab": {
      "name": "Web scrape.ipynb",
      "provenance": [],
      "authorship_tag": "ABX9TyN6uiek/TTjdEhJTW3euRn7",
      "include_colab_link": true
    },
    "kernelspec": {
      "name": "python3",
      "display_name": "Python 3"
    },
    "language_info": {
      "name": "python"
    }
  },
  "cells": [
    {
      "cell_type": "markdown",
      "metadata": {
        "id": "view-in-github",
        "colab_type": "text"
      },
      "source": [
        "<a href=\"https://colab.research.google.com/github/Sidarth-V/CivHacks/blob/main/Web_scrape.ipynb\" target=\"_parent\"><img src=\"https://colab.research.google.com/assets/colab-badge.svg\" alt=\"Open In Colab\"/></a>"
      ]
    },
    {
      "cell_type": "code",
      "metadata": {
        "colab": {
          "base_uri": "https://localhost:8080/"
        },
        "id": "UUUyrAJ3saBR",
        "outputId": "862f4b13-8485-480a-8d4b-bafb28df19b7"
      },
      "source": [
        "pip install html-table-parser-python3"
      ],
      "execution_count": null,
      "outputs": [
        {
          "output_type": "stream",
          "text": [
            "Requirement already satisfied: html-table-parser-python3 in /usr/local/lib/python3.7/dist-packages (0.2.0)\n"
          ],
          "name": "stdout"
        }
      ]
    },
    {
      "cell_type": "code",
      "metadata": {
        "id": "pjZnvfAssCX9"
      },
      "source": [
        "import urllib.request\n",
        "\n",
        "# pretty-print python data structures\n",
        "from pprint import pprint\n",
        "\n",
        "# for parsing all the tables present \n",
        "# on the website\n",
        "from html_table_parser import HTMLTableParser\n",
        "\n",
        "# for converting the parsed data in a\n",
        "# pandas dataframe\n",
        "import pandas as pd\n"
      ],
      "execution_count": null,
      "outputs": []
    },
    {
      "cell_type": "code",
      "metadata": {
        "id": "IeZUboHIuLbf"
      },
      "source": [
        "import requests\n",
        "from bs4 import BeautifulSoup\n",
        "request_page = requests.get('http://164.100.112.24/SpringMVC/getHospital_Beds_Status_Citizen.htm')\n",
        "soup = BeautifulSoup(request_page.text, 'lxml')\n",
        "\n",
        "\n",
        "for i in soup.findAll('A'):\n",
        "    print(i.text)\n",
        "\n"
      ],
      "execution_count": null,
      "outputs": []
    },
    {
      "cell_type": "code",
      "metadata": {
        "id": "izHqXLKts8Sw"
      },
      "source": [
        "import requests\n",
        "from bs4 import BeautifulSoup\n",
        "import pandas as pd\n",
        "\n",
        "url = 'http://164.100.112.24/SpringMVC/getHospital_Beds_Status_Citizen.htm'\n",
        "requests.get(url)\n",
        "page = requests.get(url)\n",
        "\n",
        "soup = BeautifulSoup(page.text, 'lxml')\n",
        "print(soup)\n",
        "\n",
        "table_data = soup.find('table', class_ = 'table-reponsive1')\n",
        "\n",
        "headers = []\n",
        "for i in table_data.find_all('th'):\n",
        "    title = i.text\n",
        "    headers.append(title)\n",
        "\n",
        "df = pd.DataFrame(columns = headers)\n",
        "\n",
        "for j in table_data.find_all('tr')[1:]:\n",
        "        row_data = j.find_all('td')\n",
        "        row = [tr.text for tr in row_data]\n",
        "        length = len(df)\n",
        "        df.loc[length] = row"
      ],
      "execution_count": null,
      "outputs": []
    },
    {
      "cell_type": "code",
      "metadata": {
        "id": "hfw1Zc8NyNTq"
      },
      "source": [
        ""
      ],
      "execution_count": null,
      "outputs": []
    }
  ]
}